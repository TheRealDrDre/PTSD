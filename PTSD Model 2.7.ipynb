{
 "cells": [
  {
   "cell_type": "markdown",
   "metadata": {},
   "source": [
    "<h1>PTSD Model and Analysis</h1>\n",
    "\n",
    "    Andrea Stocco, transladed to Jupiter by Briana Smith \n",
    "    May 13, 2019"
   ]
  },
  {
   "cell_type": "markdown",
   "metadata": {},
   "source": [
    "<h2>Usage</h2>"
   ]
  },
  {
   "cell_type": "markdown",
   "metadata": {},
   "source": [
    "For Mac, import the working directory for the PTSD file:"
   ]
  },
  {
   "cell_type": "code",
   "execution_count": 1,
   "metadata": {},
   "outputs": [],
   "source": [
    "import os\n",
    "os.chdir('/Users/Briana/Documents/GitHub/PTSD')\n",
    "#I want this to draw directly from GitHub... "
   ]
  },
  {
   "cell_type": "markdown",
   "metadata": {},
   "source": [
    "The model is controlled by the ACT-R Python interface.\n",
    "\n",
    "Open ACT-R and load ptsd.lisp file. \n",
    "\n",
    "Now import ACT-R into python:"
   ]
  },
  {
   "cell_type": "code",
   "execution_count": 2,
   "metadata": {},
   "outputs": [
    {
     "name": "stdout",
     "output_type": "stream",
     "text": [
      "ACT-R connection has been started.\n"
     ]
    }
   ],
   "source": [
    "import actr"
   ]
  },
  {
   "cell_type": "markdown",
   "metadata": {},
   "source": [
    "To start a model, import the ptsd module:"
   ]
  },
  {
   "cell_type": "code",
   "execution_count": 3,
   "metadata": {},
   "outputs": [
    {
     "name": "stdout",
     "output_type": "stream",
     "text": [
      "#|Warning: Parameter :ACTIVATION-OFFSETS cannot take value \"v_offset\" because it must be a function, string naming a command, or nil. |#\n",
      "#|Warning: Parameter :CHUNK-ADD-HOOK cannot take value \"keep_table\" because it must be a function, string naming a command, or nil. |#\n",
      "#|Warning: Parameter :SPREADING-HOOK cannot take value \"spreading\" because it must be a function, string naming a command, or nil. |#\n",
      "#|Warning: Parameter :RETRIEVED-CHUNK-HOOK cannot take value \"monitor_retrievals\" because it must be a function, string naming a command, or nil. |#\n"
     ]
    }
   ],
   "source": [
    "import ptsd"
   ]
  },
  {
   "cell_type": "markdown",
   "metadata": {},
   "source": [
    "A single simulation can be run with the simulation command.\n",
    "\n",
    "For example:"
   ]
  },
  {
   "cell_type": "code",
   "execution_count": 6,
   "metadata": {},
   "outputs": [],
   "source": [
    "ptsd.simulation(max_time=40000)"
   ]
  },
  {
   "cell_type": "markdown",
   "metadata": {},
   "source": [
    "Multiple simulation can be run with the meta command. The meta command has multiple parameters.\n",
    "\n",
    "    V is a list of possible values for the V-value of the traumatic event; \n",
    "    \n",
    "    fname is the name of a file onto which to save the traces; and \n",
    "    \n",
    "    n is the number of simulations. \n",
    "    \n",
    "For example:"
   ]
  },
  {
   "cell_type": "code",
   "execution_count": 17,
   "metadata": {},
   "outputs": [
    {
     "name": "stdout",
     "output_type": "stream",
     "text": [
      "V = 2.00: \n",
      ".\n",
      ".\n",
      ".\n",
      ".\n",
      ".\n",
      ".\n",
      ".\n",
      ".\n",
      ".\n",
      ".\n",
      ".\n",
      ".\n",
      ".\n",
      ".\n",
      ".\n",
      ".\n",
      ".\n",
      ".\n",
      ".\n",
      ".\n",
      "\n",
      "V = 5.00: \n",
      ".\n",
      ".\n",
      ".\n",
      ".\n",
      ".\n",
      ".\n",
      ".\n",
      ".\n",
      ".\n",
      ".\n",
      ".\n",
      ".\n",
      ".\n",
      ".\n",
      ".\n",
      ".\n",
      ".\n",
      ".\n",
      ".\n",
      ".\n",
      "\n",
      "V = 10.00: \n",
      ".\n",
      ".\n",
      ".\n",
      ".\n",
      ".\n",
      ".\n",
      ".\n",
      ".\n",
      ".\n",
      ".\n",
      ".\n",
      ".\n",
      ".\n",
      ".\n",
      ".\n",
      ".\n",
      ".\n",
      ".\n",
      ".\n",
      ".\n",
      "\n",
      "V = 15.00: \n",
      ".\n",
      ".\n",
      ".\n",
      ".\n",
      ".\n",
      ".\n",
      ".\n",
      ".\n",
      ".\n",
      ".\n",
      ".\n",
      ".\n",
      ".\n",
      ".\n",
      ".\n",
      ".\n",
      ".\n",
      ".\n",
      ".\n",
      ".\n",
      "\n"
     ]
    }
   ],
   "source": [
    "#META TAKES A LONG TIME SO DONT RUN UNLESS YOU ARE READY FOR THAT\n",
    "ptsd.meta(V=[2,5,10,15], n=100, fname=\"mysims.txt\")"
   ]
  }
 ],
 "metadata": {
  "kernelspec": {
   "display_name": "Python 2",
   "language": "python",
   "name": "python2"
  },
  "language_info": {
   "codemirror_mode": {
    "name": "ipython",
    "version": 2
   },
   "file_extension": ".py",
   "mimetype": "text/x-python",
   "name": "python",
   "nbconvert_exporter": "python",
   "pygments_lexer": "ipython2",
   "version": "2.7.16"
  }
 },
 "nbformat": 4,
 "nbformat_minor": 2
}
